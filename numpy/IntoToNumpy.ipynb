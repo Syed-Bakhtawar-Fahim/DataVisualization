{
 "cells": [
  {
   "cell_type": "code",
   "execution_count": 4,
   "id": "754d7116",
   "metadata": {},
   "outputs": [],
   "source": [
    "# NumPy (Numerical Python) is an open source Python library that’s used in almost every field of science and engineering. \n",
    "# It’s the universal standard for working with numerical data in Python, and it’s at the core of the scientific Python \n",
    "# and PyData ecosystems. \n",
    "# NumPy users include everyone from beginning coders to experienced researchers doing state-of-the-art scientific and \n",
    "# industrial research and development. The NumPy API is used extensively in Pandas, SciPy, Matplotlib, \n",
    "# scikit-learn, scikit-image and most other data science and scientific Python packages."
   ]
  },
  {
   "cell_type": "code",
   "execution_count": 5,
   "id": "f517f495",
   "metadata": {},
   "outputs": [],
   "source": [
    "# used in ML, NLP"
   ]
  },
  {
   "cell_type": "code",
   "execution_count": 6,
   "id": "f2b2e68f",
   "metadata": {},
   "outputs": [],
   "source": [
    "# numpy something based on tenserflow, pytorch"
   ]
  },
  {
   "cell_type": "code",
   "execution_count": 8,
   "id": "b3428515",
   "metadata": {},
   "outputs": [],
   "source": [
    "# numPy was original package inside python so it was actually a package in Matlab (Tool), later introduce in python named as\n",
    "# numPy (Numerical Python)"
   ]
  },
  {
   "cell_type": "code",
   "execution_count": 2,
   "id": "f8f21082",
   "metadata": {},
   "outputs": [],
   "source": [
    "import numpy as np"
   ]
  },
  {
   "cell_type": "code",
   "execution_count": 11,
   "id": "9643a893",
   "metadata": {},
   "outputs": [],
   "source": [
    "# Not best as numPy\n",
    "import array"
   ]
  },
  {
   "cell_type": "code",
   "execution_count": 12,
   "id": "572c660f",
   "metadata": {},
   "outputs": [
    {
     "data": {
      "text/plain": [
       "array([1, 2, 3, 4, 5, 6])"
      ]
     },
     "execution_count": 12,
     "metadata": {},
     "output_type": "execute_result"
    }
   ],
   "source": [
    "np.array([1,2,3,4,5,6])"
   ]
  },
  {
   "cell_type": "code",
   "execution_count": 15,
   "id": "2612230c",
   "metadata": {},
   "outputs": [
    {
     "data": {
      "text/plain": [
       "numpy.ndarray"
      ]
     },
     "execution_count": 15,
     "metadata": {},
     "output_type": "execute_result"
    }
   ],
   "source": [
    "type(np.array([1,2,3,4,5,6]))\n",
    "\n",
    "# nd --> n-dimensional array"
   ]
  },
  {
   "cell_type": "markdown",
   "id": "553bc93a",
   "metadata": {},
   "source": [
    "### upCasting in numPy:"
   ]
  },
  {
   "cell_type": "code",
   "execution_count": null,
   "id": "deb385e8",
   "metadata": {},
   "outputs": [],
   "source": [
    "# upcasting in numpy: \n",
    "\n",
    "# A NumPy array has the dtype attribute, which specifies the data type of all the elements in the array.\n",
    "# If the array contains elements of different data types, all the elements are cast into the largest \n",
    "# type (a process known as upcasting). A NumPy array can also be a copy or a reference to an existing NumPy array."
   ]
  },
  {
   "cell_type": "code",
   "execution_count": 19,
   "id": "1bfc9801",
   "metadata": {},
   "outputs": [
    {
     "data": {
      "text/plain": [
       "array(['1', '2', '3', '4', 'Hello World', '(4+8j)'], dtype='<U64')"
      ]
     },
     "execution_count": 19,
     "metadata": {},
     "output_type": "execute_result"
    }
   ],
   "source": [
    "# 1d-array\n",
    "np.array([1,2,3,4, \"Hello World\", 4+8j])"
   ]
  },
  {
   "cell_type": "code",
   "execution_count": 20,
   "id": "488255f9",
   "metadata": {},
   "outputs": [
    {
     "data": {
      "text/plain": [
       "array([1. , 2. , 3. , 4. , 5. , 6.8])"
      ]
     },
     "execution_count": 20,
     "metadata": {},
     "output_type": "execute_result"
    }
   ],
   "source": [
    "np.array([1,2,3,4,5, 6.8])"
   ]
  },
  {
   "cell_type": "code",
   "execution_count": 21,
   "id": "677fde19",
   "metadata": {},
   "outputs": [
    {
     "data": {
      "text/plain": [
       "array([[1, 3],\n",
       "       [3, 4]])"
      ]
     },
     "execution_count": 21,
     "metadata": {},
     "output_type": "execute_result"
    }
   ],
   "source": [
    "np.array([[1,3],[3,4]])"
   ]
  },
  {
   "cell_type": "code",
   "execution_count": 23,
   "id": "7e962cf7",
   "metadata": {},
   "outputs": [
    {
     "name": "stderr",
     "output_type": "stream",
     "text": [
      "C:\\Users\\adv\\AppData\\Local\\Temp\\ipykernel_7792\\1959913074.py:1: VisibleDeprecationWarning: Creating an ndarray from ragged nested sequences (which is a list-or-tuple of lists-or-tuples-or ndarrays with different lengths or shapes) is deprecated. If you meant to do this, you must specify 'dtype=object' when creating the ndarray.\n",
      "  np.array([[1,3],[3,4], [1,2,3]])\n"
     ]
    },
    {
     "data": {
      "text/plain": [
       "array([list([1, 3]), list([3, 4]), list([1, 2, 3])], dtype=object)"
      ]
     },
     "execution_count": 23,
     "metadata": {},
     "output_type": "execute_result"
    }
   ],
   "source": [
    "# 2d-array\n",
    "np.array([[1,3],[3,4], [1,2,3]])\n",
    "\n",
    "# the no. of element in array is not same so its give warning but it holds the data in the form of list then put these\n",
    "# list into an nd-array"
   ]
  },
  {
   "cell_type": "code",
   "execution_count": 27,
   "id": "715ca0b8",
   "metadata": {},
   "outputs": [
    {
     "data": {
      "text/plain": [
       "array([[[1, 2, 3],\n",
       "        [4, 5, 6]],\n",
       "\n",
       "       [[4, 5, 6],\n",
       "        [9, 8, 7]]])"
      ]
     },
     "execution_count": 27,
     "metadata": {},
     "output_type": "execute_result"
    }
   ],
   "source": [
    "# 3d-array\n",
    "np.array([ [ [1,2,3], [4,5,6] ], [[4,5,6], [9,8,7]]])"
   ]
  },
  {
   "cell_type": "code",
   "execution_count": 28,
   "id": "6e43ca0b",
   "metadata": {},
   "outputs": [
    {
     "data": {
      "text/plain": [
       "array([[[1, 2, 3]]])"
      ]
     },
     "execution_count": 28,
     "metadata": {},
     "output_type": "execute_result"
    }
   ],
   "source": [
    "# ndmin add dimension which we pass to it\n",
    "np.array([1,2,3] , ndmin = 3)"
   ]
  },
  {
   "cell_type": "code",
   "execution_count": 29,
   "id": "54825d94",
   "metadata": {},
   "outputs": [
    {
     "data": {
      "text/plain": [
       "array([[[[[[[[[[1, 2, 3]]]]]]]]]])"
      ]
     },
     "execution_count": 29,
     "metadata": {},
     "output_type": "execute_result"
    }
   ],
   "source": [
    "np.array([1,2,3] , ndmin = 10)"
   ]
  },
  {
   "cell_type": "code",
   "execution_count": 30,
   "id": "c73d2c3d",
   "metadata": {},
   "outputs": [
    {
     "data": {
      "text/plain": [
       "array([1.+0.j, 2.+0.j, 3.+0.j])"
      ]
     },
     "execution_count": 30,
     "metadata": {},
     "output_type": "execute_result"
    }
   ],
   "source": [
    "# dtype --> take data type and done type casting\n",
    "\n",
    "np.array([1,2,3] , dtype = complex)"
   ]
  },
  {
   "cell_type": "code",
   "execution_count": 103,
   "id": "183e95d0",
   "metadata": {},
   "outputs": [],
   "source": [
    "arr = np.array([(1,2) , (4,5)],dtype = [(\"a\",'<i4'), (\"b\",'<i8')])"
   ]
  },
  {
   "cell_type": "code",
   "execution_count": 104,
   "id": "c9f67199",
   "metadata": {},
   "outputs": [
    {
     "data": {
      "text/plain": [
       "array([(1, 2), (4, 5)], dtype=[('a', '<i4'), ('b', '<i8')])"
      ]
     },
     "execution_count": 104,
     "metadata": {},
     "output_type": "execute_result"
    }
   ],
   "source": [
    "arr\n",
    "\n",
    "# by default is i4\n",
    "# i4 represent 32bit and i8 represent 64bits\n",
    "# i2 also exist"
   ]
  },
  {
   "cell_type": "code",
   "execution_count": 105,
   "id": "4693d4c3",
   "metadata": {},
   "outputs": [
    {
     "data": {
      "text/plain": [
       "numpy.int32"
      ]
     },
     "execution_count": 105,
     "metadata": {},
     "output_type": "execute_result"
    }
   ],
   "source": [
    "type(arr[0][0])"
   ]
  },
  {
   "cell_type": "code",
   "execution_count": 106,
   "id": "9ebf3449",
   "metadata": {},
   "outputs": [
    {
     "data": {
      "text/plain": [
       "numpy.int64"
      ]
     },
     "execution_count": 106,
     "metadata": {},
     "output_type": "execute_result"
    }
   ],
   "source": [
    "type(arr[0][1])"
   ]
  },
  {
   "cell_type": "code",
   "execution_count": 107,
   "id": "c4586e18",
   "metadata": {},
   "outputs": [],
   "source": [
    "arr  = np.array([[1,3],[3,4]])"
   ]
  },
  {
   "cell_type": "code",
   "execution_count": 108,
   "id": "7f2a2ba7",
   "metadata": {},
   "outputs": [
    {
     "data": {
      "text/plain": [
       "numpy.int32"
      ]
     },
     "execution_count": 108,
     "metadata": {},
     "output_type": "execute_result"
    }
   ],
   "source": [
    "type(arr[0][0])"
   ]
  },
  {
   "cell_type": "code",
   "execution_count": 109,
   "id": "254a61f9",
   "metadata": {},
   "outputs": [
    {
     "data": {
      "text/plain": [
       "numpy.int32"
      ]
     },
     "execution_count": 109,
     "metadata": {},
     "output_type": "execute_result"
    }
   ],
   "source": [
    "type(arr[0][1])"
   ]
  },
  {
   "cell_type": "markdown",
   "id": "0ced1a4a",
   "metadata": {},
   "source": [
    "#### Another DataType --> Matrix"
   ]
  },
  {
   "cell_type": "code",
   "execution_count": 110,
   "id": "402e0684",
   "metadata": {},
   "outputs": [
    {
     "data": {
      "text/plain": [
       "matrix([[1, 3],\n",
       "        [3, 4]])"
      ]
     },
     "execution_count": 110,
     "metadata": {},
     "output_type": "execute_result"
    }
   ],
   "source": [
    "np.mat(arr)\n",
    "# MATRIX\n",
    "\n",
    "# np.matrix(arr)"
   ]
  },
  {
   "cell_type": "code",
   "execution_count": 111,
   "id": "fec9dc5c",
   "metadata": {},
   "outputs": [],
   "source": [
    "mat = np.matrix(arr)"
   ]
  },
  {
   "cell_type": "code",
   "execution_count": 112,
   "id": "7fff5ca2",
   "metadata": {},
   "outputs": [],
   "source": [
    "# Convert list into array with different method"
   ]
  },
  {
   "cell_type": "code",
   "execution_count": 113,
   "id": "ee54ba84",
   "metadata": {},
   "outputs": [],
   "source": [
    "l = [1,2,3,4,5]"
   ]
  },
  {
   "cell_type": "code",
   "execution_count": 114,
   "id": "85f40199",
   "metadata": {},
   "outputs": [
    {
     "data": {
      "text/plain": [
       "array([1, 2, 3, 4, 5])"
      ]
     },
     "execution_count": 114,
     "metadata": {},
     "output_type": "execute_result"
    }
   ],
   "source": [
    "np.array(l)"
   ]
  },
  {
   "cell_type": "code",
   "execution_count": 115,
   "id": "8c50a738",
   "metadata": {},
   "outputs": [
    {
     "data": {
      "text/plain": [
       "array([1, 2, 3, 4, 5])"
      ]
     },
     "execution_count": 115,
     "metadata": {},
     "output_type": "execute_result"
    }
   ],
   "source": [
    "np.asarray(l)"
   ]
  },
  {
   "cell_type": "code",
   "execution_count": 116,
   "id": "8de99f1d",
   "metadata": {},
   "outputs": [
    {
     "data": {
      "text/plain": [
       "array([1, 2, 3, 4, 5])"
      ]
     },
     "execution_count": 116,
     "metadata": {},
     "output_type": "execute_result"
    }
   ],
   "source": [
    "np.asanyarray(l)"
   ]
  },
  {
   "cell_type": "code",
   "execution_count": 117,
   "id": "c18ecaa1",
   "metadata": {},
   "outputs": [],
   "source": [
    "# Matrix is a subset of array"
   ]
  },
  {
   "cell_type": "code",
   "execution_count": 118,
   "id": "5d47cd34",
   "metadata": {},
   "outputs": [
    {
     "data": {
      "text/plain": [
       "matrix([[1, 3],\n",
       "        [3, 4]])"
      ]
     },
     "execution_count": 118,
     "metadata": {},
     "output_type": "execute_result"
    }
   ],
   "source": [
    "# asanyarray() -- convert array into matrix\n",
    "\n",
    "np.asanyarray(mat)"
   ]
  },
  {
   "cell_type": "code",
   "execution_count": 119,
   "id": "11ec370e",
   "metadata": {},
   "outputs": [
    {
     "data": {
      "text/plain": [
       "array([[1, 3],\n",
       "       [3, 4]])"
      ]
     },
     "execution_count": 119,
     "metadata": {},
     "output_type": "execute_result"
    }
   ],
   "source": [
    "np.asarray(mat)\n",
    "\n",
    "# convert matrix into array"
   ]
  },
  {
   "cell_type": "code",
   "execution_count": 120,
   "id": "4f29890a",
   "metadata": {},
   "outputs": [
    {
     "data": {
      "text/plain": [
       "True"
      ]
     },
     "execution_count": 120,
     "metadata": {},
     "output_type": "execute_result"
    }
   ],
   "source": [
    "# if I want to check that matrix are the sub class of nd-array or not\n",
    "issubclass(np.matrix, np.ndarray)"
   ]
  },
  {
   "cell_type": "code",
   "execution_count": 121,
   "id": "d7d4d376",
   "metadata": {},
   "outputs": [
    {
     "data": {
      "text/plain": [
       "False"
      ]
     },
     "execution_count": 121,
     "metadata": {},
     "output_type": "execute_result"
    }
   ],
   "source": [
    "# array are the parent class of matrix so it will be FALSE\n",
    "issubclass(np.ndarray, np.matrix)"
   ]
  },
  {
   "cell_type": "code",
   "execution_count": 122,
   "id": "d76d658f",
   "metadata": {},
   "outputs": [],
   "source": [
    "# assign arr to variable\n",
    "# array are mutable"
   ]
  },
  {
   "cell_type": "code",
   "execution_count": 123,
   "id": "119ba94d",
   "metadata": {},
   "outputs": [],
   "source": [
    "a = arr\n",
    "\n",
    "# this is something called \"Shollow Copy\" so it'll effect means if we changing in one then it will automatically \n",
    "# effect the others"
   ]
  },
  {
   "cell_type": "code",
   "execution_count": 124,
   "id": "3132959f",
   "metadata": {},
   "outputs": [],
   "source": [
    "b = np.copy(arr)\n",
    "\n",
    "# this is representing a \"deep copy\" so it will copy the value and does not effect the others"
   ]
  },
  {
   "cell_type": "code",
   "execution_count": 125,
   "id": "d34c881a",
   "metadata": {},
   "outputs": [],
   "source": [
    "# changing the value of arr\n",
    "arr[0][0] = 67"
   ]
  },
  {
   "cell_type": "code",
   "execution_count": 126,
   "id": "3a1244cd",
   "metadata": {},
   "outputs": [
    {
     "data": {
      "text/plain": [
       "array([[67,  3],\n",
       "       [ 3,  4]])"
      ]
     },
     "execution_count": 126,
     "metadata": {},
     "output_type": "execute_result"
    }
   ],
   "source": [
    "arr"
   ]
  },
  {
   "cell_type": "code",
   "execution_count": 127,
   "id": "e0ee7d04",
   "metadata": {},
   "outputs": [
    {
     "data": {
      "text/plain": [
       "array([[1, 3],\n",
       "       [3, 4]])"
      ]
     },
     "execution_count": 127,
     "metadata": {},
     "output_type": "execute_result"
    }
   ],
   "source": [
    "# b will hold old data\n",
    "b"
   ]
  },
  {
   "cell_type": "code",
   "execution_count": 130,
   "id": "2fab20ea",
   "metadata": {},
   "outputs": [],
   "source": [
    "# access value of array"
   ]
  },
  {
   "cell_type": "code",
   "execution_count": 131,
   "id": "ca9783e7",
   "metadata": {},
   "outputs": [
    {
     "data": {
      "text/plain": [
       "array([3, 4])"
      ]
     },
     "execution_count": 131,
     "metadata": {},
     "output_type": "execute_result"
    }
   ],
   "source": [
    "arr[-1]"
   ]
  },
  {
   "cell_type": "code",
   "execution_count": 132,
   "id": "c64a1829",
   "metadata": {},
   "outputs": [
    {
     "data": {
      "text/plain": [
       "4"
      ]
     },
     "execution_count": 132,
     "metadata": {},
     "output_type": "execute_result"
    }
   ],
   "source": [
    "arr[-1][-1]"
   ]
  },
  {
   "cell_type": "code",
   "execution_count": 133,
   "id": "27940909",
   "metadata": {},
   "outputs": [
    {
     "name": "stdout",
     "output_type": "stream",
     "text": [
      "[67  3]\n",
      "[3 4]\n"
     ]
    }
   ],
   "source": [
    "for i in arr:\n",
    "    print(i)"
   ]
  },
  {
   "cell_type": "code",
   "execution_count": 134,
   "id": "1c76d9b8",
   "metadata": {},
   "outputs": [
    {
     "name": "stdout",
     "output_type": "stream",
     "text": [
      "67\n",
      "3\n",
      "3\n",
      "4\n"
     ]
    }
   ],
   "source": [
    "for i in arr:\n",
    "    for j in i:\n",
    "        print(j)"
   ]
  },
  {
   "cell_type": "code",
   "execution_count": 135,
   "id": "7ffd2b90",
   "metadata": {},
   "outputs": [],
   "source": [
    "# fromFunction()"
   ]
  },
  {
   "cell_type": "code",
   "execution_count": 136,
   "id": "8eb407cd",
   "metadata": {},
   "outputs": [
    {
     "data": {
      "text/plain": [
       "numpy.ndarray"
      ]
     },
     "execution_count": 136,
     "metadata": {},
     "output_type": "execute_result"
    }
   ],
   "source": [
    "type(np.fromfunction(lambda i , j :i==j,(4,4)))"
   ]
  },
  {
   "cell_type": "code",
   "execution_count": 137,
   "id": "731d62e4",
   "metadata": {},
   "outputs": [
    {
     "data": {
      "text/plain": [
       "array([[ True, False, False, False],\n",
       "       [False,  True, False, False],\n",
       "       [False, False,  True, False],\n",
       "       [False, False, False,  True]])"
      ]
     },
     "execution_count": 137,
     "metadata": {},
     "output_type": "execute_result"
    }
   ],
   "source": [
    "np.fromfunction(lambda i , j :i==j,(4,4))"
   ]
  },
  {
   "cell_type": "code",
   "execution_count": 3,
   "id": "e62ce8e8",
   "metadata": {},
   "outputs": [
    {
     "data": {
      "text/plain": [
       "array([[1., 0., 0.],\n",
       "       [1., 1., 1.],\n",
       "       [1., 2., 4.]])"
      ]
     },
     "execution_count": 3,
     "metadata": {},
     "output_type": "execute_result"
    }
   ],
   "source": [
    "np.fromfunction(lambda i, j: i**j, (3,3))"
   ]
  },
  {
   "cell_type": "code",
   "execution_count": 4,
   "id": "addf419c",
   "metadata": {},
   "outputs": [
    {
     "data": {
      "text/plain": [
       "array([[0., 1., 2.],\n",
       "       [1., 2., 3.],\n",
       "       [2., 3., 4.]])"
      ]
     },
     "execution_count": 4,
     "metadata": {},
     "output_type": "execute_result"
    }
   ],
   "source": [
    "np.fromfunction(lambda i,j: i+j, (3,3))"
   ]
  },
  {
   "cell_type": "code",
   "execution_count": 6,
   "id": "0312e568",
   "metadata": {},
   "outputs": [
    {
     "name": "stderr",
     "output_type": "stream",
     "text": [
      "C:\\Users\\adv\\AppData\\Local\\Temp\\ipykernel_9696\\1015003607.py:1: RuntimeWarning: divide by zero encountered in true_divide\n",
      "  np.fromfunction(lambda i , j :i/j,(3,3))\n",
      "C:\\Users\\adv\\AppData\\Local\\Temp\\ipykernel_9696\\1015003607.py:1: RuntimeWarning: invalid value encountered in true_divide\n",
      "  np.fromfunction(lambda i , j :i/j,(3,3))\n"
     ]
    },
    {
     "data": {
      "text/plain": [
       "array([[nan, 0. , 0. ],\n",
       "       [inf, 1. , 0.5],\n",
       "       [inf, 2. , 1. ]])"
      ]
     },
     "execution_count": 6,
     "metadata": {},
     "output_type": "execute_result"
    }
   ],
   "source": [
    "np.fromfunction(lambda i , j :i/j,(3,3))\n",
    "\n",
    "# numPy doesnot give any kind of error in dividing 0/0 but its show that this is \"nan\" and similar to (1/0) --> inf(infinity)"
   ]
  },
  {
   "cell_type": "code",
   "execution_count": 8,
   "id": "4b0b823b",
   "metadata": {},
   "outputs": [
    {
     "ename": "ZeroDivisionError",
     "evalue": "division by zero",
     "output_type": "error",
     "traceback": [
      "\u001b[1;31m---------------------------------------------------------------------------\u001b[0m",
      "\u001b[1;31mZeroDivisionError\u001b[0m                         Traceback (most recent call last)",
      "Input \u001b[1;32mIn [8]\u001b[0m, in \u001b[0;36m<cell line: 1>\u001b[1;34m()\u001b[0m\n\u001b[1;32m----> 1\u001b[0m \u001b[38;5;241;43m0\u001b[39;49m\u001b[38;5;241;43m/\u001b[39;49m\u001b[38;5;241;43m0\u001b[39;49m\n",
      "\u001b[1;31mZeroDivisionError\u001b[0m: division by zero"
     ]
    }
   ],
   "source": [
    "0/0\n",
    "# error --> ZeroDivisionError"
   ]
  },
  {
   "cell_type": "code",
   "execution_count": 9,
   "id": "df1f47c9",
   "metadata": {},
   "outputs": [
    {
     "ename": "ZeroDivisionError",
     "evalue": "division by zero",
     "output_type": "error",
     "traceback": [
      "\u001b[1;31m---------------------------------------------------------------------------\u001b[0m",
      "\u001b[1;31mZeroDivisionError\u001b[0m                         Traceback (most recent call last)",
      "Input \u001b[1;32mIn [9]\u001b[0m, in \u001b[0;36m<cell line: 1>\u001b[1;34m()\u001b[0m\n\u001b[1;32m----> 1\u001b[0m \u001b[38;5;241;43m1\u001b[39;49m\u001b[38;5;241;43m/\u001b[39;49m\u001b[38;5;241;43m0\u001b[39;49m\n",
      "\u001b[1;31mZeroDivisionError\u001b[0m: division by zero"
     ]
    }
   ],
   "source": [
    "1/0"
   ]
  },
  {
   "cell_type": "code",
   "execution_count": 10,
   "id": "8bc4d985",
   "metadata": {},
   "outputs": [],
   "source": [
    "# fromiter --> even from a iterable variable or a iter you will be able to generate a data"
   ]
  },
  {
   "cell_type": "code",
   "execution_count": 11,
   "id": "f39ce203",
   "metadata": {},
   "outputs": [
    {
     "data": {
      "text/plain": [
       "[0, 1, 4, 9, 16]"
      ]
     },
     "execution_count": 11,
     "metadata": {},
     "output_type": "execute_result"
    }
   ],
   "source": [
    "# list comprehension\n",
    "\n",
    "[i*i for i in range(5)]"
   ]
  },
  {
   "cell_type": "code",
   "execution_count": 28,
   "id": "9ed4fde2",
   "metadata": {},
   "outputs": [],
   "source": [
    "# generator\n",
    "gen = (i*i for i in range(5))"
   ]
  },
  {
   "cell_type": "code",
   "execution_count": 29,
   "id": "7fdd2916",
   "metadata": {},
   "outputs": [],
   "source": [
    "# yield --> with the help of yield function I will be able create any function as an generator function"
   ]
  },
  {
   "cell_type": "code",
   "execution_count": 30,
   "id": "806c942b",
   "metadata": {},
   "outputs": [],
   "source": [
    "def test(x):\n",
    "    yield x"
   ]
  },
  {
   "cell_type": "code",
   "execution_count": 31,
   "id": "ff3bc389",
   "metadata": {},
   "outputs": [
    {
     "data": {
      "text/plain": [
       "<generator object test at 0x00000285888A52E0>"
      ]
     },
     "execution_count": 31,
     "metadata": {},
     "output_type": "execute_result"
    }
   ],
   "source": [
    "test(5)"
   ]
  },
  {
   "cell_type": "code",
   "execution_count": 32,
   "id": "df1cc953",
   "metadata": {},
   "outputs": [
    {
     "name": "stdout",
     "output_type": "stream",
     "text": [
      "0\n",
      "1\n",
      "4\n",
      "9\n",
      "16\n"
     ]
    }
   ],
   "source": [
    "gen\n",
    "for i in gen :\n",
    "    print(i)"
   ]
  },
  {
   "cell_type": "code",
   "execution_count": 21,
   "id": "cf2885c2",
   "metadata": {},
   "outputs": [
    {
     "data": {
      "text/plain": [
       "array([0, 1, 2, 3, 4])"
      ]
     },
     "execution_count": 21,
     "metadata": {},
     "output_type": "execute_result"
    }
   ],
   "source": [
    "np.fromiter(range(5),dtype= int) \n",
    "# range is also a generator()"
   ]
  },
  {
   "cell_type": "code",
   "execution_count": 24,
   "id": "27c64328",
   "metadata": {},
   "outputs": [
    {
     "data": {
      "text/plain": [
       "array([ 0,  1,  4,  9, 16])"
      ]
     },
     "execution_count": 24,
     "metadata": {},
     "output_type": "execute_result"
    }
   ],
   "source": [
    "np.fromiter(gen,dtype= int)"
   ]
  },
  {
   "cell_type": "code",
   "execution_count": 33,
   "id": "86144070",
   "metadata": {},
   "outputs": [
    {
     "data": {
      "text/plain": [
       "array([1, 3, 4, 5, 5])"
      ]
     },
     "execution_count": 33,
     "metadata": {},
     "output_type": "execute_result"
    }
   ],
   "source": [
    "np.fromstring('1,3,4,5,5' , sep = ',', dtype= int)"
   ]
  },
  {
   "cell_type": "code",
   "execution_count": 34,
   "id": "b5abe12f",
   "metadata": {},
   "outputs": [
    {
     "data": {
      "text/plain": [
       "array([  456.+0.j,   456.+0.j,  3454.+0.j, 34543.+0.j])"
      ]
     },
     "execution_count": 34,
     "metadata": {},
     "output_type": "execute_result"
    }
   ],
   "source": [
    "np.fromstring(\"456 456 3454 34543\" ,sep = ' ', dtype= complex)"
   ]
  },
  {
   "cell_type": "code",
   "execution_count": null,
   "id": "3ced964b",
   "metadata": {},
   "outputs": [],
   "source": []
  }
 ],
 "metadata": {
  "kernelspec": {
   "display_name": "Python 3.9.12 ('base': conda)",
   "language": "python",
   "name": "python3"
  },
  "language_info": {
   "codemirror_mode": {
    "name": "ipython",
    "version": 3
   },
   "file_extension": ".py",
   "mimetype": "text/x-python",
   "name": "python",
   "nbconvert_exporter": "python",
   "pygments_lexer": "ipython3",
   "version": "3.9.12"
  },
  "vscode": {
   "interpreter": {
    "hash": "84c13112cc586e0fe96ba6a9bb08395e08dd960164c573e9bc08ddafed691a44"
   }
  }
 },
 "nbformat": 4,
 "nbformat_minor": 5
}
